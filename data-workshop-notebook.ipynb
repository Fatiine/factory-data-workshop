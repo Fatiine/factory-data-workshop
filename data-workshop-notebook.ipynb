{
 "cells": [
  {
   "cell_type": "code",
   "execution_count": 5,
   "outputs": [],
   "source": [
    "import pandas as pd\n",
    "import networkx as nx\n",
    "import matplotlib.pyplot as plt\n",
    "import numpy as np"
   ],
   "metadata": {
    "collapsed": false,
    "pycharm": {
     "name": "#%%\n"
    }
   }
  },
  {
   "cell_type": "markdown",
   "source": [
    "# PART I : Data Analysis of the Factory elements"
   ],
   "metadata": {
    "collapsed": false,
    "pycharm": {
     "name": "#%% md\n"
    }
   }
  },
  {
   "cell_type": "markdown",
   "source": [
    "## I - Parts : Equipments and Components\n",
    "- An equipment is a part number for which there exists at least one occurence in the Requirement table as a heading part number.\n",
    "- A component is a part number for which there exists at least one occurence in the Requirement table as a child part number."
   ],
   "metadata": {
    "collapsed": false,
    "pycharm": {
     "name": "#%% md\n"
    }
   }
  },
  {
   "cell_type": "code",
   "execution_count": 6,
   "outputs": [],
   "source": [
    "# Read all factory data\n",
    "parts = pd.read_csv('data/parts.csv', index_col=0)\n",
    "requirements = pd.read_csv('data/requirements.csv', index_col=0)\n",
    "work_orders = pd.read_csv('data/work_orders.csv', index_col=0)\n",
    "customer_orders = pd.read_csv('data/customer_orders.csv', index_col=0)\n",
    "purchase_orders = pd.read_csv('data/purchase_orders.csv', index_col=0)\n",
    "initial_stock = pd.read_csv('data/initial_stock.csv', index_col=0)"
   ],
   "metadata": {
    "collapsed": false,
    "pycharm": {
     "name": "#%%\n"
    }
   }
  },
  {
   "cell_type": "markdown",
   "source": [
    "### Q1 : What is the list of equipments ? And what are the requirements for each equipment ?"
   ],
   "metadata": {
    "collapsed": false,
    "pycharm": {
     "name": "#%% md\n"
    }
   }
  },
  {
   "cell_type": "code",
   "execution_count": null,
   "outputs": [],
   "source": [
    "# Prepare a dataframe with the heading_part_name and child_part_name from the dataframes : requirements and parts\n",
    "\n",
    "equipements_and_components = requirements.copy()\n",
    "\n",
    "# Add heading part name\n",
    "equipements_and_components= equipements_and_components.merge(...)\n",
    "\n",
    "\n",
    "# Add child part name\n",
    "equipements_and_components = equipements_and_components.merge(...)\n",
    "\n",
    "equipements_and_components.head()"
   ],
   "metadata": {
    "collapsed": false,
    "pycharm": {
     "name": "#%%\n"
    }
   }
  },
  {
   "cell_type": "code",
   "execution_count": null,
   "outputs": [],
   "source": [
    "# List of equipments\n",
    "equipment_names = ...\n",
    "equipment_names"
   ],
   "metadata": {
    "collapsed": false,
    "pycharm": {
     "name": "#%%\n"
    }
   }
  },
  {
   "cell_type": "code",
   "execution_count": null,
   "outputs": [],
   "source": [
    "# List of equipments\n",
    "component_names = ...\n",
    "component_names"
   ],
   "metadata": {
    "collapsed": false,
    "pycharm": {
     "name": "#%%\n"
    }
   }
  },
  {
   "cell_type": "code",
   "execution_count": null,
   "outputs": [],
   "source": [
    "# Requirements for each equipment\n",
    "for equipement in equipment_names:\n",
    "    print(\"Requirements for Equipment  : \", equipement)\n",
    "    print(equipements_and_components[equipements_and_components.heading_part_name==equipement])"
   ],
   "metadata": {
    "collapsed": false,
    "pycharm": {
     "name": "#%%\n"
    }
   }
  },
  {
   "cell_type": "markdown",
   "source": [
    "### Q2 : What are the components that are required for the construction of 2 or more equipments ?"
   ],
   "metadata": {
    "collapsed": false,
    "pycharm": {
     "name": "#%% md\n"
    }
   }
  },
  {
   "cell_type": "code",
   "execution_count": null,
   "outputs": [],
   "source": [
    "# Group by component\n",
    "nbr_equipement_per_component = equipements_and_components[['heading_part_name', 'child_part_name']].groupby(...).count()\n",
    "nbr_equipement_per_component"
   ],
   "metadata": {
    "collapsed": false,
    "pycharm": {
     "name": "#%%\n"
    }
   }
  },
  {
   "cell_type": "code",
   "execution_count": null,
   "outputs": [],
   "source": [
    "# Component used by more than 2 equipments\n",
    "component_used_by_more_than_2_eq = nbr_equipement_per_component[...]\n",
    "component_used_by_more_than_2_eq"
   ],
   "metadata": {
    "collapsed": false,
    "pycharm": {
     "name": "#%%\n"
    }
   }
  },
  {
   "cell_type": "markdown",
   "source": [
    "### Q3 : Plot a graph in order to visualize each Equipment and its corresponding Components"
   ],
   "metadata": {
    "collapsed": false,
    "pycharm": {
     "name": "#%% md\n"
    }
   }
  },
  {
   "cell_type": "markdown",
   "source": [
    "La bibliothèque `NetworkX` en Python est utilisée pour la création, la manipulation et l'analyse de graphes et de réseaux. Elle offre des fonctionnalités pour créer des graphes, ajouter des nœuds et des arêtes, calculer des métriques de réseau, effectuer des opérations de recherche de chemins, générer des graphes aléatoires, et bien plus encore."
   ],
   "metadata": {
    "collapsed": false,
    "pycharm": {
     "name": "#%% md\n"
    }
   }
  },
  {
   "cell_type": "markdown",
   "source": [
    "La fonction `from_pandas_edgelist` est une fonction de la bibliothèque NetworkX en Python. Elle permet de créer un graphe NetworkX à partir d'un DataFrame Pandas contenant une liste d'arêtes (edges) du graphe.\n",
    "\n",
    "Cette fonction prend en entrée un DataFrame Pandas avec au moins deux colonnes, représentant les nœuds source et destination de chaque arête. Vous pouvez également spécifier une colonne supplémentaire pour les attributs des arêtes."
   ],
   "metadata": {
    "collapsed": false,
    "pycharm": {
     "name": "#%% md\n"
    }
   }
  },
  {
   "cell_type": "code",
   "execution_count": null,
   "outputs": [],
   "source": [
    "# Prepare graphs\n",
    "equipements_and_components_network = nx.from_pandas_edgelist(equipements_and_components, source=..., target=...)\n",
    "\n",
    "# Add node colors\n",
    "colors = []\n",
    "for node in equipements_and_components_network:\n",
    "    if node in equipements_and_components['heading_part_name'].values:\n",
    "        colors.append('blue')\n",
    "    else:\n",
    "        colors.append('lightgreen')\n",
    "\n",
    "# draw graph\n",
    "nx.draw(..., with_labels=True, node_color=..., node_size=700, font_size=5)"
   ],
   "metadata": {
    "collapsed": false,
    "pycharm": {
     "name": "#%%\n"
    }
   }
  },
  {
   "cell_type": "markdown",
   "source": [
    "## II - Orders - Customer Orders, Work Orders, Purchase Orders"
   ],
   "metadata": {
    "collapsed": false,
    "pycharm": {
     "name": "#%% md\n"
    }
   }
  },
  {
   "cell_type": "markdown",
   "source": [
    "### Q5 : What is the number of customer orders per part ? What is the maximum and minimum due date ?\n",
    "\n",
    "Préparer une nouvelle DataFrame contenant les informations agrégées pour chaque valeur unique de la colonne \"part_number\". Le colonnes d'aggrégations :\n",
    "\n",
    "-  \"part_number\" : Les différentes valeurs de la colonne \"part_number\" pour lesquelles les agrégations ont été effectuées.\n",
    "-  \"customer_order_number_count\" : Le nombre total de commandes de clients pour chaque valeur de \"part_number\".\n",
    "- \"due_date_min\" : La date d'échéance minimale parmi toutes les commandes pour chaque \"part_number\".\n",
    "- \"due_date_max\" : La date d'échéance maximale parmi toutes les commandes pour chaque \"part_number\".\n",
    "- \"quantity_sum\" : La somme totale des quantités commandées pour chaque \"part_number\"."
   ],
   "metadata": {
    "collapsed": false,
    "pycharm": {
     "name": "#%% md\n"
    }
   }
  },
  {
   "cell_type": "markdown",
   "source": [
    "### Q6 : Which parts have customers orders ?"
   ],
   "metadata": {
    "collapsed": false
   }
  },
  {
   "cell_type": "markdown",
   "source": [
    "### Q7 : What is the number of work orders per part ? What is the maximum and minimum release date ?\n"
   ],
   "metadata": {
    "collapsed": false,
    "pycharm": {
     "name": "#%% md\n"
    }
   }
  },
  {
   "cell_type": "markdown",
   "source": [
    "### Q8 : Which parts have work orders ?"
   ],
   "metadata": {
    "collapsed": false
   }
  },
  {
   "cell_type": "markdown",
   "source": [
    "### Q9 : What is the number of purchase orders per part ? What is the maximum and minimum delivery date ?"
   ],
   "metadata": {
    "collapsed": false,
    "pycharm": {
     "name": "#%% md\n"
    }
   }
  },
  {
   "cell_type": "code",
   "execution_count": null,
   "outputs": [],
   "source": [
    "purchase_orders_per_equipments = purchase_orders.groupby('...').agg({\"purchase_order_number\": [\"...\"], 'delivery_date': [\"...\", \"...\"], 'quantity': [\"...\"]})\n",
    "purchase_orders_per_equipments"
   ],
   "metadata": {
    "collapsed": false,
    "pycharm": {
     "name": "#%%\n"
    }
   }
  },
  {
   "cell_type": "markdown",
   "source": [
    "### Q10 : Which parts have purchase orders ?"
   ],
   "metadata": {
    "collapsed": false,
    "pycharm": {
     "name": "#%% md\n"
    }
   }
  },
  {
   "cell_type": "markdown",
   "source": [
    "## III - Data  Vizualisation : Events plot"
   ],
   "metadata": {
    "collapsed": false,
    "pycharm": {
     "name": "#%% md\n"
    }
   }
  },
  {
   "cell_type": "markdown",
   "source": [
    "#### Q11 : Can you plot on an timeline  work/purchase/customer orders events per parts ?\n"
   ],
   "metadata": {
    "collapsed": false,
    "pycharm": {
     "name": "#%% md\n"
    }
   }
  },
  {
   "cell_type": "markdown",
   "source": [
    "1 - Préparer une dataframe comprenants tous les événements d’une part.\n",
    "La dataframe cible doit avoir les colonnes suivantes :\n",
    "[part_number, part_name, order_number, quantity, date, event_type]"
   ],
   "metadata": {
    "collapsed": false,
    "pycharm": {
     "name": "#%% md\n"
    }
   }
  },
  {
   "cell_type": "code",
   "execution_count": 9,
   "outputs": [
    {
     "data": {
      "text/plain": "    part_number                   part_name  order_number  quantity  \\\n0        232434            AERO GEARBOX A-1        752682         1   \n1        232434            AERO GEARBOX A-1        275098         1   \n2        232434            AERO GEARBOX A-1        292340         1   \n3        232434            AERO GEARBOX A-1        602748         1   \n4        547235            AERO GEARBOX A-2        884668         1   \n5        547235            AERO GEARBOX A-2        583820         1   \n6        547235            AERO GEARBOX A-2         80517         1   \n7        547235            AERO GEARBOX A-2         63091         1   \n8        547235            AERO GEARBOX A-2        486240         1   \n9        986756            AERO GEARBOX A-3         76941         1   \n10      7358645  HORIZONTAL STABILIZER GB-1        755765         1   \n11      7358645  HORIZONTAL STABILIZER GB-1         48696         1   \n12      7358645  HORIZONTAL STABILIZER GB-1        640011         1   \n13       845343  HORIZONTAL STABILIZER GB-2        770356         1   \n14       845343  HORIZONTAL STABILIZER GB-2        500493         1   \n15       765465             GEAR SHAFT AB-1         73033         1   \n16       765465             GEAR SHAFT AB-1        583069         1   \n17       765465             GEAR SHAFT AB-1        463816         1   \n18       765465             GEAR SHAFT AB-1        647543         1   \n19       765465             GEAR SHAFT AB-1         36369         1   \n\n                   date event_type  \n0   2023-03-20 17:47:58         WO  \n1   2023-02-22 01:44:17         WO  \n2   2023-06-16 14:30:16         WO  \n3   2023-04-07 19:33:36         WO  \n4   2023-04-16 12:39:57         WO  \n5   2023-04-15 18:07:39         WO  \n6   2023-06-20 08:53:42         WO  \n7   2023-01-13 12:33:27         WO  \n8   2023-06-24 19:10:40         WO  \n9   2023-06-04 19:21:02         WO  \n10  2023-01-10 23:34:26         WO  \n11  2023-05-31 05:52:01         WO  \n12  2023-06-05 03:23:37         WO  \n13  2023-01-01 09:23:57         WO  \n14  2023-04-19 09:20:57         WO  \n15  2023-02-13 14:49:48         WO  \n16  2023-02-20 09:42:00         WO  \n17  2023-04-13 08:50:24         WO  \n18  2023-02-04 00:34:09         WO  \n19  2023-06-17 19:17:18         WO  ",
      "text/html": "<div>\n<style scoped>\n    .dataframe tbody tr th:only-of-type {\n        vertical-align: middle;\n    }\n\n    .dataframe tbody tr th {\n        vertical-align: top;\n    }\n\n    .dataframe thead th {\n        text-align: right;\n    }\n</style>\n<table border=\"1\" class=\"dataframe\">\n  <thead>\n    <tr style=\"text-align: right;\">\n      <th></th>\n      <th>part_number</th>\n      <th>part_name</th>\n      <th>order_number</th>\n      <th>quantity</th>\n      <th>date</th>\n      <th>event_type</th>\n    </tr>\n  </thead>\n  <tbody>\n    <tr>\n      <th>0</th>\n      <td>232434</td>\n      <td>AERO GEARBOX A-1</td>\n      <td>752682</td>\n      <td>1</td>\n      <td>2023-03-20 17:47:58</td>\n      <td>WO</td>\n    </tr>\n    <tr>\n      <th>1</th>\n      <td>232434</td>\n      <td>AERO GEARBOX A-1</td>\n      <td>275098</td>\n      <td>1</td>\n      <td>2023-02-22 01:44:17</td>\n      <td>WO</td>\n    </tr>\n    <tr>\n      <th>2</th>\n      <td>232434</td>\n      <td>AERO GEARBOX A-1</td>\n      <td>292340</td>\n      <td>1</td>\n      <td>2023-06-16 14:30:16</td>\n      <td>WO</td>\n    </tr>\n    <tr>\n      <th>3</th>\n      <td>232434</td>\n      <td>AERO GEARBOX A-1</td>\n      <td>602748</td>\n      <td>1</td>\n      <td>2023-04-07 19:33:36</td>\n      <td>WO</td>\n    </tr>\n    <tr>\n      <th>4</th>\n      <td>547235</td>\n      <td>AERO GEARBOX A-2</td>\n      <td>884668</td>\n      <td>1</td>\n      <td>2023-04-16 12:39:57</td>\n      <td>WO</td>\n    </tr>\n    <tr>\n      <th>5</th>\n      <td>547235</td>\n      <td>AERO GEARBOX A-2</td>\n      <td>583820</td>\n      <td>1</td>\n      <td>2023-04-15 18:07:39</td>\n      <td>WO</td>\n    </tr>\n    <tr>\n      <th>6</th>\n      <td>547235</td>\n      <td>AERO GEARBOX A-2</td>\n      <td>80517</td>\n      <td>1</td>\n      <td>2023-06-20 08:53:42</td>\n      <td>WO</td>\n    </tr>\n    <tr>\n      <th>7</th>\n      <td>547235</td>\n      <td>AERO GEARBOX A-2</td>\n      <td>63091</td>\n      <td>1</td>\n      <td>2023-01-13 12:33:27</td>\n      <td>WO</td>\n    </tr>\n    <tr>\n      <th>8</th>\n      <td>547235</td>\n      <td>AERO GEARBOX A-2</td>\n      <td>486240</td>\n      <td>1</td>\n      <td>2023-06-24 19:10:40</td>\n      <td>WO</td>\n    </tr>\n    <tr>\n      <th>9</th>\n      <td>986756</td>\n      <td>AERO GEARBOX A-3</td>\n      <td>76941</td>\n      <td>1</td>\n      <td>2023-06-04 19:21:02</td>\n      <td>WO</td>\n    </tr>\n    <tr>\n      <th>10</th>\n      <td>7358645</td>\n      <td>HORIZONTAL STABILIZER GB-1</td>\n      <td>755765</td>\n      <td>1</td>\n      <td>2023-01-10 23:34:26</td>\n      <td>WO</td>\n    </tr>\n    <tr>\n      <th>11</th>\n      <td>7358645</td>\n      <td>HORIZONTAL STABILIZER GB-1</td>\n      <td>48696</td>\n      <td>1</td>\n      <td>2023-05-31 05:52:01</td>\n      <td>WO</td>\n    </tr>\n    <tr>\n      <th>12</th>\n      <td>7358645</td>\n      <td>HORIZONTAL STABILIZER GB-1</td>\n      <td>640011</td>\n      <td>1</td>\n      <td>2023-06-05 03:23:37</td>\n      <td>WO</td>\n    </tr>\n    <tr>\n      <th>13</th>\n      <td>845343</td>\n      <td>HORIZONTAL STABILIZER GB-2</td>\n      <td>770356</td>\n      <td>1</td>\n      <td>2023-01-01 09:23:57</td>\n      <td>WO</td>\n    </tr>\n    <tr>\n      <th>14</th>\n      <td>845343</td>\n      <td>HORIZONTAL STABILIZER GB-2</td>\n      <td>500493</td>\n      <td>1</td>\n      <td>2023-04-19 09:20:57</td>\n      <td>WO</td>\n    </tr>\n    <tr>\n      <th>15</th>\n      <td>765465</td>\n      <td>GEAR SHAFT AB-1</td>\n      <td>73033</td>\n      <td>1</td>\n      <td>2023-02-13 14:49:48</td>\n      <td>WO</td>\n    </tr>\n    <tr>\n      <th>16</th>\n      <td>765465</td>\n      <td>GEAR SHAFT AB-1</td>\n      <td>583069</td>\n      <td>1</td>\n      <td>2023-02-20 09:42:00</td>\n      <td>WO</td>\n    </tr>\n    <tr>\n      <th>17</th>\n      <td>765465</td>\n      <td>GEAR SHAFT AB-1</td>\n      <td>463816</td>\n      <td>1</td>\n      <td>2023-04-13 08:50:24</td>\n      <td>WO</td>\n    </tr>\n    <tr>\n      <th>18</th>\n      <td>765465</td>\n      <td>GEAR SHAFT AB-1</td>\n      <td>647543</td>\n      <td>1</td>\n      <td>2023-02-04 00:34:09</td>\n      <td>WO</td>\n    </tr>\n    <tr>\n      <th>19</th>\n      <td>765465</td>\n      <td>GEAR SHAFT AB-1</td>\n      <td>36369</td>\n      <td>1</td>\n      <td>2023-06-17 19:17:18</td>\n      <td>WO</td>\n    </tr>\n  </tbody>\n</table>\n</div>"
     },
     "execution_count": 9,
     "metadata": {},
     "output_type": "execute_result"
    }
   ],
   "source": [
    "# All parts work orders\n",
    "all_parts_work_orders = parts.merge(work_orders, on='part_number')\n",
    "\n",
    "# Drop the unnecessary columns\n",
    "all_parts_work_orders = all_parts_work_orders.drop(columns=[\"unit_price\", \"status\", \"lead_time\"]).rename(columns={'work_order_number': \"order_number\", 'release_date': 'date'})\n",
    "\n",
    "# Name the event type\n",
    "all_parts_work_orders['event_type'] = \"WO\"\n",
    "all_parts_work_orders"
   ],
   "metadata": {
    "collapsed": false,
    "pycharm": {
     "name": "#%%\n"
    }
   }
  },
  {
   "cell_type": "code",
   "execution_count": null,
   "outputs": [],
   "source": [
    "all_parts_purchase_orders = ..."
   ],
   "metadata": {
    "collapsed": false,
    "pycharm": {
     "name": "#%%\n"
    }
   }
  },
  {
   "cell_type": "code",
   "execution_count": null,
   "outputs": [],
   "source": [
    "all_parts_customer_orders = ..."
   ],
   "metadata": {
    "collapsed": false,
    "pycharm": {
     "name": "#%%\n"
    }
   }
  },
  {
   "cell_type": "code",
   "execution_count": null,
   "outputs": [],
   "source": [
    "# Concaténer tous les événements dans une dataframe\n",
    "all_parts_events = pd.concat([all_parts_purchase_orders, all_parts_customer_orders, all_parts_work_orders])"
   ],
   "metadata": {
    "collapsed": false,
    "pycharm": {
     "name": "#%%\n"
    }
   }
  },
  {
   "cell_type": "markdown",
   "source": [
    "2 - Préparer la fonction qui déssine les événements par part"
   ],
   "metadata": {
    "collapsed": false,
    "pycharm": {
     "name": "#%% md\n"
    }
   }
  },
  {
   "cell_type": "code",
   "execution_count": null,
   "outputs": [],
   "source": [
    "def plot_all_part_events(event_df, part_name):\n",
    "    # Selectionner les évenements de 'part_name'\n",
    "    part_events = ...\n",
    "\n",
    "    # Convertir la colonne 'date' au type datetime\n",
    "    part_events['date'] = ...\n",
    "\n",
    "    # Trier les événements par date en ordre ascendant\n",
    "    part_events = ...\n",
    "\n",
    "    plt.figure()\n",
    "    event_types = part_events['event_type'].unique()\n",
    "    dates = part_events['date'].unique()\n",
    "    nbr_dates = len(dates)\n",
    "    bar_width = 0.2\n",
    "    opacity = 0.8\n",
    "\n",
    "    # Représenter chaque événement par un diagramme à barres\n",
    "    for i, event_type in enumerate(event_types):\n",
    "        event_data = part_events[part_events['event_type'] == event_type]\n",
    "        quantities = [event_data[event_data['date'] == date]['quantity'].values[0] if date in event_data['date'].values else 0 for date in dates]\n",
    "        index = np.arange(nbr_dates) + i * bar_width\n",
    "        plt.bar(..., ..., bar_width, alpha=opacity, label=event_type)\n",
    "\n",
    "    plt.xlabel('Date')\n",
    "    plt.ylabel('Quantity')\n",
    "    plt.title(...)\n",
    "    plt.xticks(np.arange(nbr_dates), dates, rotation=45)\n",
    "    plt.legend()\n",
    "    plt.tight_layout()\n",
    "    return plt"
   ],
   "metadata": {
    "collapsed": false,
    "pycharm": {
     "name": "#%%\n"
    }
   }
  },
  {
   "cell_type": "code",
   "execution_count": null,
   "outputs": [],
   "source": [
    "for part_name in parts.part_name.unique():\n",
    "    plt = plot_all_part_events(all_parts_events, part_name)\n",
    "    plt.show()"
   ],
   "metadata": {
    "collapsed": false,
    "pycharm": {
     "name": "#%%\n"
    }
   }
  },
  {
   "cell_type": "markdown",
   "source": [
    "# Part II : Stock Projection"
   ],
   "metadata": {
    "collapsed": false,
    "pycharm": {
     "name": "#%% md\n"
    }
   }
  },
  {
   "cell_type": "markdown",
   "source": [
    "Pour cette partie, on a deux hypothèses :\n",
    "- Un ordre de fabrication et un ordre de commande augmentent le stock d'une pièce.\n",
    "- Une commande client diminue le stock d'une pièce."
   ],
   "metadata": {
    "collapsed": false
   }
  },
  {
   "cell_type": "markdown",
   "source": [
    "### Q12 : Given the two hypothesis : compute the stock trajectory for each part ?"
   ],
   "metadata": {
    "collapsed": false,
    "pycharm": {
     "name": "#%% md\n"
    }
   }
  },
  {
   "cell_type": "code",
   "execution_count": null,
   "outputs": [],
   "source": [
    "def plot_part_stock_trajectory(events_df, part_name, plot=None):\n",
    "    part_events_df = ...\n",
    "\n",
    "    # Convertir la colonne 'date' au type datetime\n",
    "    part_events_df['date'] = ...\n",
    "\n",
    "    # Trier les événements par date en ordre ascendant\n",
    "    part_events_df = ...\n",
    "\n",
    "    # Rendre la quantité des customers orders négative\n",
    "    part_events_df.loc[part_events_df['event_type'].isin(['CO']), 'quantity']  ...\n",
    "\n",
    "    # Le stock sur le temps est une somme cumuléé des quantités des événements\n",
    "    part_events_df['stock'] = ...\n",
    "\n",
    "    stocks = part_events_df['stock'].values\n",
    "    dates = part_events_df['date'].values\n",
    "\n",
    "    if plot is None:\n",
    "        plt.figure()\n",
    "        plt.tight_layout()\n",
    "        plt.xlabel('Date')\n",
    "        plt.ylabel('Stock')\n",
    "        plt.title(...)\n",
    "        plt.xticks(np.arange(len(dates)), dates, rotation=45)\n",
    "\n",
    "    plt.plot(stocks, marker='o', label=f'Part Name: {part_name}')\n",
    "    return plt"
   ],
   "metadata": {
    "collapsed": false,
    "pycharm": {
     "name": "#%%\n"
    }
   }
  },
  {
   "cell_type": "code",
   "execution_count": null,
   "outputs": [],
   "source": [
    "for part_name in parts.part_name.unique():\n",
    "    plt = plot_part_stock_trajectory(all_parts_events, part_name)\n",
    "    plt.show()"
   ],
   "metadata": {
    "collapsed": false,
    "pycharm": {
     "name": "#%%\n"
    }
   }
  },
  {
   "cell_type": "markdown",
   "source": [
    "### Q13 : Given an initial stock for some parts, what is the new stock trajectory for each part ?"
   ],
   "metadata": {
    "collapsed": false,
    "pycharm": {
     "name": "#%% md\n"
    }
   }
  },
  {
   "cell_type": "code",
   "execution_count": null,
   "outputs": [],
   "source": [
    "def plot_part_stock_trajectory_with_initial_stock(events_df, part_name, plot=None):\n",
    "    part_events_df = ...\n",
    "\n",
    "    # Convertir la colonne 'date' au type datetime\n",
    "    part_events_df['date'] = ...\n",
    "\n",
    "    # Trier les événements par date en ordre ascendant\n",
    "    part_events_df = ...\n",
    "\n",
    "    # Rendre la quantité des customers orders négative\n",
    "    part_events_df.loc[part_events_df['event_type'].isin(['CO']), 'quantity']  ...\n",
    "    # Le stock sur le temps est une somme cumuléé des quantités des événements\n",
    "    part_events_df['stock'] = ...\n",
    "\n",
    "    # Ajout du Stock initial de la part\n",
    "    part_number = part_events_df.part_number.values[0]\n",
    "    initial_part_stock = 0\n",
    "    ...\n",
    "\n",
    "    print('Initial part stock : ', initial_part_stock)\n",
    "    stocks = ...\n",
    "    ###\n",
    "\n",
    "    dates = part_events_df['date'].values\n",
    "\n",
    "    if plot is None:\n",
    "        plt.figure()\n",
    "        plt.tight_layout()\n",
    "        plt.xlabel('Date')\n",
    "        plt.ylabel('Stock')\n",
    "        plt.title(f'Stock Trajectory - Part Name: {part_name}')\n",
    "        plt.xticks(np.arange(len(dates)), dates, rotation=45)\n",
    "\n",
    "    plt.plot(stocks, marker='o', label=f'Part Name: {part_name}')\n",
    "    return plt"
   ],
   "metadata": {
    "collapsed": false,
    "pycharm": {
     "name": "#%%\n"
    }
   }
  },
  {
   "cell_type": "code",
   "execution_count": null,
   "outputs": [],
   "source": [
    "for part_name in parts.part_name.unique():\n",
    "    plt = plot_all_part_events(all_parts_events, part_name)\n",
    "    plt = plot_part_stock_trajectory_with_initial_stock(all_parts_events, part_name, plt)\n",
    "    plt.show()"
   ],
   "metadata": {
    "collapsed": false,
    "pycharm": {
     "name": "#%%\n"
    }
   }
  },
  {
   "cell_type": "markdown",
   "source": [
    "### Q14 : Are we able to deliver the customer orders on time ? What are the customer orders that wouldn’t be delivered on time ?"
   ],
   "metadata": {
    "collapsed": false,
    "pycharm": {
     "name": "#%% md\n"
    }
   }
  },
  {
   "cell_type": "markdown",
   "source": [
    "### Q15 : In order to deliver the Customer orders on-time,  What could be the actions to take ?\n"
   ],
   "metadata": {
    "collapsed": false,
    "pycharm": {
     "name": "#%% md\n"
    }
   }
  },
  {
   "cell_type": "markdown",
   "source": [
    "The problem is much complicated than that :\n",
    "The work orders of the equipments are conditioned by the pieces availabilities.\n",
    "\n",
    "\n",
    "### Q16 : What would be the new stock trajectories of the parts if we take into account that constraint ?"
   ],
   "metadata": {
    "collapsed": false,
    "pycharm": {
     "name": "#%% md\n"
    }
   }
  },
  {
   "cell_type": "markdown",
   "source": [
    "1 - Consumption events :\n",
    "\n",
    "Create consumption events for equipements work orders"
   ],
   "metadata": {
    "collapsed": false,
    "pycharm": {
     "name": "#%% md\n"
    }
   }
  },
  {
   "cell_type": "code",
   "execution_count": null,
   "outputs": [],
   "source": [
    "# Equipment work orders\n",
    "equipment_orders = ...\n",
    "equipment_work_orders = ..."
   ],
   "metadata": {
    "collapsed": false,
    "pycharm": {
     "name": "#%%\n"
    }
   }
  },
  {
   "cell_type": "code",
   "execution_count": null,
   "outputs": [],
   "source": [
    "# helper function\n",
    "\n",
    "# Get list of requirements per equipement\n",
    "def get_requirement_per_equipment(equipment_name, requirements_df):\n",
    "    return requirements_df[requirements_df.heading_part_name==equipment_name]"
   ],
   "metadata": {
    "collapsed": false,
    "pycharm": {
     "name": "#%%\n"
    }
   }
  },
  {
   "cell_type": "code",
   "execution_count": null,
   "outputs": [],
   "source": [
    "# Consumption orders\n",
    "\n",
    "consumption_orders = []\n",
    "for i, row in equipment_work_orders.iterrows():\n",
    "    equipment_requirements = get_requirement_per_equipment(row.part_name, equipements_and_components)\n",
    "    for j, r in equipment_requirements.iterrows():\n",
    "        cons = {'part_number': ..., 'part_name': ..., \"quantity\": ..., \"date\": ..., \"event_type\": 'CONSO'}\n",
    "        consumption_orders.append(cons)\n",
    "consumption_orders_df = pd.DataFrame(consumption_orders)\n",
    "consumption_orders_df"
   ],
   "metadata": {
    "collapsed": false,
    "pycharm": {
     "name": "#%%\n"
    }
   }
  },
  {
   "cell_type": "code",
   "execution_count": null,
   "outputs": [],
   "source": [
    "# Concatenate consumption orders to all parts events\n",
    "all_parts_events_with_conso = ..."
   ],
   "metadata": {
    "collapsed": false,
    "pycharm": {
     "name": "#%%\n"
    }
   }
  },
  {
   "cell_type": "code",
   "execution_count": null,
   "outputs": [],
   "source": [
    "# plot new stock trajectory + consumption events :\n",
    "\n",
    "for part_name in parts.part_name.unique():\n",
    "    plt = plot_all_part_events(all_parts_events_with_conso, part_name)\n",
    "    plt = plot_part_stock_trajectory_with_initial_stock(all_parts_events_with_conso, part_name, plt)\n",
    "    plt.show()"
   ],
   "metadata": {
    "collapsed": false,
    "pycharm": {
     "name": "#%%\n"
    }
   }
  },
  {
   "cell_type": "markdown",
   "source": [
    "### Q17 : Are we able to release all the work orders ?"
   ],
   "metadata": {
    "collapsed": false,
    "pycharm": {
     "name": "#%% md\n"
    }
   }
  },
  {
   "cell_type": "code",
   "execution_count": null,
   "outputs": [],
   "source": [
    "### Add stock to all_part_events_with_conso dataframe\n",
    "all_parts_events_with_conso['date'] = pd.to_datetime(all_parts_events_with_conso['date'])\n",
    "\n",
    "all_parts_events_with_conso  = all_parts_events_with_conso.sort_values(by=\"date\", ascending=True)\n",
    "\n",
    "all_parts_events_with_conso['stock'] = all_parts_events_with_conso.groupby('part_name')['quantity'].cumsum()\n",
    "\n",
    "all_parts_events_with_conso = all_parts_events_with_conso.sort_values(by=[\"part_number\", \"date\"])"
   ],
   "metadata": {
    "collapsed": false,
    "pycharm": {
     "name": "#%%\n"
    }
   }
  },
  {
   "cell_type": "code",
   "execution_count": null,
   "outputs": [],
   "source": [
    "def component_stock_trajectory_at_date(part_name, date):\n",
    "    stock_at_date = ...\n",
    "    return stock_at_date"
   ],
   "metadata": {
    "collapsed": false,
    "pycharm": {
     "name": "#%%\n"
    }
   }
  },
  {
   "cell_type": "markdown",
   "source": [],
   "metadata": {
    "collapsed": false
   }
  },
  {
   "cell_type": "code",
   "execution_count": null,
   "outputs": [],
   "source": [
    "def is_all_work_order_components_in_stock(work_order):\n",
    "    work_order_date = ...\n",
    "    work_order_part_name = ...\n",
    "    equipement_requirements = get_requirement_per_equipment(work_order_part_name,  equipements_and_components)\n",
    "    for i, component_row in equipement_requirements.iterrows():\n",
    "        component_name = component_row.child_part_name\n",
    "        component_quantity = component_row.quantity\n",
    "        if component_stock_trajectory_at_date(component_name, work_order_date) < component_quantity:\n",
    "            print(f\"Work order {work_order.order_number} of equipement {work_order_part_name} at date {work_order_date} is Blocked\")\n",
    "            return ...\n",
    "    print(f\"Work order {work_order.order_number} of equipement {work_order_part_name} at date {work_order_date} can be releases\")\n",
    "    return ...\n"
   ],
   "metadata": {
    "collapsed": false,
    "pycharm": {
     "name": "#%%\n"
    }
   }
  },
  {
   "cell_type": "code",
   "execution_count": null,
   "outputs": [],
   "source": [
    "for i, wo in equipment_work_orders.iterrows():\n",
    "    print(is_all_work_order_components_in_stock(wo))"
   ],
   "metadata": {
    "collapsed": false,
    "pycharm": {
     "name": "#%%\n"
    }
   }
  },
  {
   "cell_type": "markdown",
   "source": [
    "### Q18 : What work orders would be blocked ? and why ?"
   ],
   "metadata": {
    "collapsed": false,
    "pycharm": {
     "name": "#%% md\n"
    }
   }
  },
  {
   "cell_type": "code",
   "execution_count": null,
   "outputs": [],
   "source": [
    "equipment_work_orders['status'] = equipment_work_orders.apply(lambda row: is_all_work_order_components_in_stock(row), axis=1)"
   ],
   "metadata": {
    "collapsed": false,
    "pycharm": {
     "name": "#%%\n"
    }
   }
  }
 ],
 "metadata": {
  "kernelspec": {
   "display_name": "Python 3",
   "language": "python",
   "name": "python3"
  },
  "language_info": {
   "codemirror_mode": {
    "name": "ipython",
    "version": 2
   },
   "file_extension": ".py",
   "mimetype": "text/x-python",
   "name": "python",
   "nbconvert_exporter": "python",
   "pygments_lexer": "ipython2",
   "version": "2.7.6"
  }
 },
 "nbformat": 4,
 "nbformat_minor": 0
}